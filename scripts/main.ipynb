{
 "cells": [
  {
   "cell_type": "markdown",
   "id": "830a43a0",
   "metadata": {},
   "source": [
    "# Introduction"
   ]
  },
  {
   "cell_type": "markdown",
   "id": "950fc3f6",
   "metadata": {},
   "source": [
    "Objective: The goal of this exercise is to evaluate your proficiency in Python programming,\n",
    "usage of GitHub, and SQL skills using a real-world dataset (Iris dataset). You will be working\n",
    "with a dataset to perform data manipulation, analysis, and visualization."
   ]
  },
  {
   "cell_type": "markdown",
   "id": "13375798",
   "metadata": {},
   "source": [
    "# 1. Libraries import"
   ]
  },
  {
   "cell_type": "code",
   "execution_count": 9,
   "id": "d406e263",
   "metadata": {},
   "outputs": [],
   "source": [
    "import pandas as pd\n",
    "import seaborn as sns\n",
    "import matplotlib.pyplot as plt\n",
    "import os\n",
    "import zipfile"
   ]
  },
  {
   "cell_type": "markdown",
   "id": "90e4ae71",
   "metadata": {},
   "source": [
    "<font size=\"5\">1.2 Plot style</font>"
   ]
  },
  {
   "cell_type": "code",
   "execution_count": 6,
   "id": "c54dfcf5",
   "metadata": {},
   "outputs": [],
   "source": [
    "# https://matplotlib.org/stable/gallery/style_sheets/style_sheets_reference.html\n",
    "sns.set_style(\"whitegrid\")"
   ]
  },
  {
   "cell_type": "markdown",
   "id": "d46bc183",
   "metadata": {},
   "source": [
    "# 2. Load Iris dataset into a Pandas DataFrame"
   ]
  },
  {
   "cell_type": "markdown",
   "id": "258f534e",
   "metadata": {},
   "source": [
    "<font size=\"5\">2.1 Path and files declaration</font>"
   ]
  },
  {
   "cell_type": "code",
   "execution_count": 10,
   "id": "4c6d7862",
   "metadata": {},
   "outputs": [],
   "source": [
    "data_path            = '../data/'\n",
    "bezdeklris_data_file = 'bezdeklris.data'\n",
    "index_file           = 'Index'\n",
    "iris_data_file       = 'iris_data'\n",
    "iris_names_file      = 'iris.names'"
   ]
  },
  {
   "cell_type": "code",
   "execution_count": 13,
   "id": "de5bf1d9",
   "metadata": {},
   "outputs": [
    {
     "name": "stdout",
     "output_type": "stream",
     "text": [
      "../data/bezdeklris.data\n"
     ]
    }
   ],
   "source": [
    "ruta = os.path.join(data_path, bezdeklris_data_file)\n",
    "\n",
    "print(ruta)"
   ]
  },
  {
   "cell_type": "code",
   "execution_count": 12,
   "id": "82dcec77",
   "metadata": {},
   "outputs": [
    {
     "ename": "FileNotFoundError",
     "evalue": "[Errno 2] No such file or directory: '../data/bezdeklris.data'",
     "output_type": "error",
     "traceback": [
      "\u001b[1;31m---------------------------------------------------------------------------\u001b[0m",
      "\u001b[1;31mFileNotFoundError\u001b[0m                         Traceback (most recent call last)",
      "Cell \u001b[1;32mIn[12], line 1\u001b[0m\n\u001b[1;32m----> 1\u001b[0m \u001b[38;5;28;01mwith\u001b[39;00m \u001b[38;5;28mopen\u001b[39m(os\u001b[38;5;241m.\u001b[39mpath\u001b[38;5;241m.\u001b[39mjoin(data_path, bezdeklris_data_file),\u001b[38;5;124m'\u001b[39m\u001b[38;5;124mr\u001b[39m\u001b[38;5;124m'\u001b[39m) \u001b[38;5;28;01mas\u001b[39;00m file:\n\u001b[0;32m      2\u001b[0m     bez_data \u001b[38;5;241m=\u001b[39m file\u001b[38;5;241m.\u001b[39mread()\n\u001b[0;32m      4\u001b[0m \u001b[38;5;28mprint\u001b[39m(bez_data)\n",
      "File \u001b[1;32m~\\anaconda3\\Lib\\site-packages\\IPython\\core\\interactiveshell.py:284\u001b[0m, in \u001b[0;36m_modified_open\u001b[1;34m(file, *args, **kwargs)\u001b[0m\n\u001b[0;32m    277\u001b[0m \u001b[38;5;28;01mif\u001b[39;00m file \u001b[38;5;129;01min\u001b[39;00m {\u001b[38;5;241m0\u001b[39m, \u001b[38;5;241m1\u001b[39m, \u001b[38;5;241m2\u001b[39m}:\n\u001b[0;32m    278\u001b[0m     \u001b[38;5;28;01mraise\u001b[39;00m \u001b[38;5;167;01mValueError\u001b[39;00m(\n\u001b[0;32m    279\u001b[0m         \u001b[38;5;124mf\u001b[39m\u001b[38;5;124m\"\u001b[39m\u001b[38;5;124mIPython won\u001b[39m\u001b[38;5;124m'\u001b[39m\u001b[38;5;124mt let you open fd=\u001b[39m\u001b[38;5;132;01m{\u001b[39;00mfile\u001b[38;5;132;01m}\u001b[39;00m\u001b[38;5;124m by default \u001b[39m\u001b[38;5;124m\"\u001b[39m\n\u001b[0;32m    280\u001b[0m         \u001b[38;5;124m\"\u001b[39m\u001b[38;5;124mas it is likely to crash IPython. If you know what you are doing, \u001b[39m\u001b[38;5;124m\"\u001b[39m\n\u001b[0;32m    281\u001b[0m         \u001b[38;5;124m\"\u001b[39m\u001b[38;5;124myou can use builtins\u001b[39m\u001b[38;5;124m'\u001b[39m\u001b[38;5;124m open.\u001b[39m\u001b[38;5;124m\"\u001b[39m\n\u001b[0;32m    282\u001b[0m     )\n\u001b[1;32m--> 284\u001b[0m \u001b[38;5;28;01mreturn\u001b[39;00m io_open(file, \u001b[38;5;241m*\u001b[39margs, \u001b[38;5;241m*\u001b[39m\u001b[38;5;241m*\u001b[39mkwargs)\n",
      "\u001b[1;31mFileNotFoundError\u001b[0m: [Errno 2] No such file or directory: '../data/bezdeklris.data'"
     ]
    }
   ],
   "source": [
    "with open(os.path.join(data_path, bezdeklris_data_file),'r') as file:\n",
    "    bez_data = file.read()\n",
    "    \n",
    "print(bez_data)"
   ]
  },
  {
   "cell_type": "code",
   "execution_count": null,
   "id": "2c48855c",
   "metadata": {},
   "outputs": [],
   "source": []
  }
 ],
 "metadata": {
  "kernelspec": {
   "display_name": "Python 3 (ipykernel)",
   "language": "python",
   "name": "python3"
  },
  "language_info": {
   "codemirror_mode": {
    "name": "ipython",
    "version": 3
   },
   "file_extension": ".py",
   "mimetype": "text/x-python",
   "name": "python",
   "nbconvert_exporter": "python",
   "pygments_lexer": "ipython3",
   "version": "3.11.4"
  }
 },
 "nbformat": 4,
 "nbformat_minor": 5
}

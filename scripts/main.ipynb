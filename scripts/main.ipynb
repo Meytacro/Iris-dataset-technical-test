{
 "cells": [
  {
   "cell_type": "markdown",
   "id": "830a43a0",
   "metadata": {},
   "source": [
    "# Introduction"
   ]
  },
  {
   "cell_type": "markdown",
   "id": "950fc3f6",
   "metadata": {},
   "source": [
    "Objective: The goal of this exercise is to evaluate your proficiency in Python programming,\n",
    "usage of GitHub, and SQL skills using a real-world dataset (Iris dataset). You will be working\n",
    "with a dataset to perform data manipulation, analysis, and visualization."
   ]
  },
  {
   "cell_type": "markdown",
   "id": "b14db3d0",
   "metadata": {},
   "source": [
    "# 0. Local execution"
   ]
  },
  {
   "cell_type": "markdown",
   "id": "4db3f4cf",
   "metadata": {},
   "source": [
    "<font size=\"5\">0.1 Clone repository</font>"
   ]
  },
  {
   "cell_type": "markdown",
   "id": "dee1644d",
   "metadata": {},
   "source": [
    "You can use this command if you have git installed to clone this repository: \n",
    "git clone https://github.com/Meytacro/Iris-dataset-technical-test\n"
   ]
  },
  {
   "cell_type": "markdown",
   "id": "e36bda92",
   "metadata": {},
   "source": [
    "<font size=\"5\">0.2 Open Notebook</font>"
   ]
  },
  {
   "cell_type": "markdown",
   "id": "6b94264b",
   "metadata": {},
   "source": [
    "Navigate to the directory where you cloned the repository.\n",
    "\n",
    "If you already have Jupyter Notebook or JupyterLab installed, simply run jupyter notebook or jupyter lab in your terminal or command line.\n",
    "\n",
    "Navigate through the Jupyter interface to find and open the .ipynb file.\n",
    "Execute the Notebook:"
   ]
  },
  {
   "cell_type": "markdown",
   "id": "05ef167e",
   "metadata": {},
   "source": [
    "<font size=\"5\">0.3 Execute Notebook</font>"
   ]
  },
  {
   "cell_type": "markdown",
   "id": "9d991f0c",
   "metadata": {},
   "source": [
    "Once the notebook is open in Jupyter, you can run the cells individually or all at once, as needed."
   ]
  },
  {
   "cell_type": "markdown",
   "id": "13375798",
   "metadata": {},
   "source": [
    "# 1. Libraries import"
   ]
  },
  {
   "cell_type": "code",
   "execution_count": 1,
   "id": "d406e263",
   "metadata": {},
   "outputs": [],
   "source": [
    "import pandas as pd\n",
    "import seaborn as sns\n",
    "import matplotlib.pyplot as plt\n",
    "import os\n",
    "import zipfile"
   ]
  },
  {
   "cell_type": "markdown",
   "id": "90e4ae71",
   "metadata": {},
   "source": [
    "<font size=\"5\">1.2 Plot style</font>"
   ]
  },
  {
   "cell_type": "code",
   "execution_count": 6,
   "id": "c54dfcf5",
   "metadata": {},
   "outputs": [],
   "source": [
    "# https://matplotlib.org/stable/gallery/style_sheets/style_sheets_reference.html\n",
    "sns.set(style=\"whitegrid\")\n",
    "\n",
    "pd.set_option('display.max_columns', 10)  \n",
    "pd.set_option('display.max_rows', 10)     "
   ]
  },
  {
   "cell_type": "markdown",
   "id": "d46bc183",
   "metadata": {},
   "source": [
    "# 2. Load Iris dataset into a Pandas DataFrame"
   ]
  },
  {
   "cell_type": "markdown",
   "id": "258f534e",
   "metadata": {},
   "source": [
    "<font size=\"5\">2.1 Path and files declaration</font>"
   ]
  },
  {
   "cell_type": "code",
   "execution_count": 10,
   "id": "4c6d7862",
   "metadata": {},
   "outputs": [
    {
     "name": "stdout",
     "output_type": "stream",
     "text": [
      "C:\\Users\\bymar\\Iris-dataset-technical-test\\scripts\n",
      "C:\\Users\\bymar\\Iris-dataset-technical-test\n",
      "C:\\Users\\bymar\\Iris-dataset-technical-test\\data\n",
      "Files in 'data':  ['bezdekIris.data', 'Index', 'iris.data', 'iris.names', 'iris.zip']\n"
     ]
    }
   ],
   "source": [
    "#Obtain current path\n",
    "path_script = os.getcwd()\n",
    "\n",
    "#Go back one directory\n",
    "path_general = os.path.dirname(path_script)\n",
    "\n",
    "#Build data path\n",
    "data_path    = os.path.join(path_general, 'data')\n",
    "\n",
    "#List of files in data path\n",
    "files_data   = os.listdir(data_path)\n",
    "\n",
    "print(path_script)\n",
    "print(path_general)\n",
    "print(data_path)\n",
    "\n",
    "print(\"Files in 'data': \", files_data)"
   ]
  },
  {
   "cell_type": "code",
   "execution_count": 41,
   "id": "de5bf1d9",
   "metadata": {},
   "outputs": [
    {
     "name": "stdout",
     "output_type": "stream",
     "text": [
      "C:\\Users\\bymar\\Iris-dataset-technical-test\\data\\bezdekIris.data\n",
      "C:\\Users\\bymar\\Iris-dataset-technical-test\\data\\Index\n",
      "C:\\Users\\bymar\\Iris-dataset-technical-test\\data\\iris.data\n",
      "C:\\Users\\bymar\\Iris-dataset-technical-test\\data\\iris.names\n"
     ]
    }
   ],
   "source": [
    "#Build files path\n",
    "bezdeklris_data_file = os.path.join(data_path, files_data[0])\n",
    "index_file           = os.path.join(data_path, files_data[1])\n",
    "iris_data_file       = os.path.join(data_path, files_data[2])\n",
    "iris_names_file      = os.path.join(data_path, files_data[3])\n",
    "\n",
    "print(bezdeklris_data_file)\n",
    "print(index_file)\n",
    "print(iris_data_file)\n",
    "print(iris_names_file)"
   ]
  },
  {
   "cell_type": "code",
   "execution_count": 43,
   "id": "b0e8b766",
   "metadata": {},
   "outputs": [
    {
     "name": "stdout",
     "output_type": "stream",
     "text": [
      "C:\\Users\\bymar\\Iris-dataset-technical-test\\data\\bezdekIris.csv\n",
      "C:\\Users\\bymar\\Iris-dataset-technical-test\\data\\iris.csv\n"
     ]
    }
   ],
   "source": [
    "#Transform .data files in .csv\n",
    "new_extension = '.csv'\n",
    "\n",
    "bezdeklris_data_file_name, _ = os.path.splitext(bezdeklris_data_file)\n",
    "iris_data_file_name, _       = os.path.splitext(iris_data_file)\n",
    "\n",
    "bezdeklris_data = bezdeklris_data_file_name+new_extension\n",
    "iris_data       = iris_data_file_name+new_extension\n",
    "\n",
    "os.rename(bezdeklris_data_file,bezdeklris_data)\n",
    "os.rename(iris_data_file,iris_data)\n",
    "\n",
    "print(bezdeklris_data)\n",
    "print(iris_data)"
   ]
  },
  {
   "cell_type": "markdown",
   "id": "c1673c94",
   "metadata": {},
   "source": [
    "<font size=\"5\">2.2 CSV read and pre-process</font>"
   ]
  },
  {
   "cell_type": "code",
   "execution_count": 52,
   "id": "82dcec77",
   "metadata": {},
   "outputs": [
    {
     "data": {
      "text/html": [
       "<div>\n",
       "<style scoped>\n",
       "    .dataframe tbody tr th:only-of-type {\n",
       "        vertical-align: middle;\n",
       "    }\n",
       "\n",
       "    .dataframe tbody tr th {\n",
       "        vertical-align: top;\n",
       "    }\n",
       "\n",
       "    .dataframe thead th {\n",
       "        text-align: right;\n",
       "    }\n",
       "</style>\n",
       "<table border=\"1\" class=\"dataframe\">\n",
       "  <thead>\n",
       "    <tr style=\"text-align: right;\">\n",
       "      <th></th>\n",
       "      <th>sepal_l [cm]</th>\n",
       "      <th>sepal_w [cm]</th>\n",
       "      <th>petal_l [cm]</th>\n",
       "      <th>petal_w [cm]</th>\n",
       "      <th>class</th>\n",
       "    </tr>\n",
       "  </thead>\n",
       "  <tbody>\n",
       "    <tr>\n",
       "      <th>0</th>\n",
       "      <td>5.1</td>\n",
       "      <td>3.5</td>\n",
       "      <td>1.4</td>\n",
       "      <td>0.2</td>\n",
       "      <td>Iris-setosa</td>\n",
       "    </tr>\n",
       "    <tr>\n",
       "      <th>1</th>\n",
       "      <td>4.9</td>\n",
       "      <td>3.0</td>\n",
       "      <td>1.4</td>\n",
       "      <td>0.2</td>\n",
       "      <td>Iris-setosa</td>\n",
       "    </tr>\n",
       "    <tr>\n",
       "      <th>2</th>\n",
       "      <td>4.7</td>\n",
       "      <td>3.2</td>\n",
       "      <td>1.3</td>\n",
       "      <td>0.2</td>\n",
       "      <td>Iris-setosa</td>\n",
       "    </tr>\n",
       "    <tr>\n",
       "      <th>3</th>\n",
       "      <td>4.6</td>\n",
       "      <td>3.1</td>\n",
       "      <td>1.5</td>\n",
       "      <td>0.2</td>\n",
       "      <td>Iris-setosa</td>\n",
       "    </tr>\n",
       "    <tr>\n",
       "      <th>4</th>\n",
       "      <td>5.0</td>\n",
       "      <td>3.6</td>\n",
       "      <td>1.4</td>\n",
       "      <td>0.2</td>\n",
       "      <td>Iris-setosa</td>\n",
       "    </tr>\n",
       "    <tr>\n",
       "      <th>...</th>\n",
       "      <td>...</td>\n",
       "      <td>...</td>\n",
       "      <td>...</td>\n",
       "      <td>...</td>\n",
       "      <td>...</td>\n",
       "    </tr>\n",
       "    <tr>\n",
       "      <th>145</th>\n",
       "      <td>6.7</td>\n",
       "      <td>3.0</td>\n",
       "      <td>5.2</td>\n",
       "      <td>2.3</td>\n",
       "      <td>Iris-virginica</td>\n",
       "    </tr>\n",
       "    <tr>\n",
       "      <th>146</th>\n",
       "      <td>6.3</td>\n",
       "      <td>2.5</td>\n",
       "      <td>5.0</td>\n",
       "      <td>1.9</td>\n",
       "      <td>Iris-virginica</td>\n",
       "    </tr>\n",
       "    <tr>\n",
       "      <th>147</th>\n",
       "      <td>6.5</td>\n",
       "      <td>3.0</td>\n",
       "      <td>5.2</td>\n",
       "      <td>2.0</td>\n",
       "      <td>Iris-virginica</td>\n",
       "    </tr>\n",
       "    <tr>\n",
       "      <th>148</th>\n",
       "      <td>6.2</td>\n",
       "      <td>3.4</td>\n",
       "      <td>5.4</td>\n",
       "      <td>2.3</td>\n",
       "      <td>Iris-virginica</td>\n",
       "    </tr>\n",
       "    <tr>\n",
       "      <th>149</th>\n",
       "      <td>5.9</td>\n",
       "      <td>3.0</td>\n",
       "      <td>5.1</td>\n",
       "      <td>1.8</td>\n",
       "      <td>Iris-virginica</td>\n",
       "    </tr>\n",
       "  </tbody>\n",
       "</table>\n",
       "<p>150 rows × 5 columns</p>\n",
       "</div>"
      ],
      "text/plain": [
       "     sepal_l [cm]  sepal_w [cm]  petal_l [cm]  petal_w [cm]           class\n",
       "0             5.1           3.5           1.4           0.2     Iris-setosa\n",
       "1             4.9           3.0           1.4           0.2     Iris-setosa\n",
       "2             4.7           3.2           1.3           0.2     Iris-setosa\n",
       "3             4.6           3.1           1.5           0.2     Iris-setosa\n",
       "4             5.0           3.6           1.4           0.2     Iris-setosa\n",
       "..            ...           ...           ...           ...             ...\n",
       "145           6.7           3.0           5.2           2.3  Iris-virginica\n",
       "146           6.3           2.5           5.0           1.9  Iris-virginica\n",
       "147           6.5           3.0           5.2           2.0  Iris-virginica\n",
       "148           6.2           3.4           5.4           2.3  Iris-virginica\n",
       "149           5.9           3.0           5.1           1.8  Iris-virginica\n",
       "\n",
       "[150 rows x 5 columns]"
      ]
     },
     "execution_count": 52,
     "metadata": {},
     "output_type": "execute_result"
    }
   ],
   "source": [
    "#Both files are the same so we will use df_iris (iris_data)\n",
    "columns_names = ['sepal_l [cm]','sepal_w [cm]','petal_l [cm]','petal_w [cm]','class']\n",
    "\n",
    "df_bezdeklris = pd.read_csv(bezdeklris_data, names=columns_names)\n",
    "df_iris       = pd.read_csv(iris_data, names=columns_names)\n",
    "\n",
    "df_bezdeklris\n",
    "df_iris"
   ]
  },
  {
   "cell_type": "markdown",
   "id": "227ed338",
   "metadata": {},
   "source": [
    "# 3. Dataframe exploration"
   ]
  },
  {
   "cell_type": "markdown",
   "id": "b286d14e",
   "metadata": {},
   "source": [
    "**Dataframe dimension:**"
   ]
  },
  {
   "cell_type": "code",
   "execution_count": 50,
   "id": "67db68f4",
   "metadata": {},
   "outputs": [
    {
     "data": {
      "text/plain": [
       "(150, 5)"
      ]
     },
     "execution_count": 50,
     "metadata": {},
     "output_type": "execute_result"
    }
   ],
   "source": [
    "df_iris.shape"
   ]
  },
  {
   "cell_type": "markdown",
   "id": "e33c0cd0",
   "metadata": {},
   "source": [
    "**Dataframe balance:**"
   ]
  },
  {
   "cell_type": "markdown",
   "id": "8a103876",
   "metadata": {},
   "source": [
    "This dataframe is balanced, each type of iris has the same amount of data and each column has no nulls in it"
   ]
  },
  {
   "cell_type": "code",
   "execution_count": 58,
   "id": "3f06e2e6",
   "metadata": {},
   "outputs": [
    {
     "data": {
      "text/plain": [
       "Iris-setosa        50\n",
       "Iris-versicolor    50\n",
       "Iris-virginica     50\n",
       "Name: class, dtype: int64"
      ]
     },
     "execution_count": 58,
     "metadata": {},
     "output_type": "execute_result"
    }
   ],
   "source": [
    "df_iris['class'].value_counts()"
   ]
  },
  {
   "cell_type": "code",
   "execution_count": 57,
   "id": "9ca37391",
   "metadata": {},
   "outputs": [
    {
     "data": {
      "text/plain": [
       "sepal_l [cm]    0\n",
       "sepal_w [cm]    0\n",
       "petal_l [cm]    0\n",
       "petal_w [cm]    0\n",
       "class           0\n",
       "dtype: int64"
      ]
     },
     "execution_count": 57,
     "metadata": {},
     "output_type": "execute_result"
    }
   ],
   "source": [
    "df_iris.isnull().sum(axis=0)"
   ]
  },
  {
   "cell_type": "markdown",
   "id": "ed3c837e",
   "metadata": {},
   "source": [
    "<font size=\"5\">3.1 Dataframe generation for each class of iris</font>"
   ]
  },
  {
   "cell_type": "code",
   "execution_count": 65,
   "id": "1a89b340",
   "metadata": {},
   "outputs": [],
   "source": [
    "df_setosa     = df_iris.loc[(df_iris['class'] == 'Iris-setosa')]\n",
    "df_versicolor = df_iris.loc[(df_iris['class'] == 'Iris-versicolor')]\n",
    "df_virginica  = df_iris.loc[(df_iris['class'] == 'Iris-virginica')]"
   ]
  },
  {
   "cell_type": "code",
   "execution_count": 69,
   "id": "105a9dd4",
   "metadata": {},
   "outputs": [
    {
     "data": {
      "text/html": [
       "<div>\n",
       "<style scoped>\n",
       "    .dataframe tbody tr th:only-of-type {\n",
       "        vertical-align: middle;\n",
       "    }\n",
       "\n",
       "    .dataframe tbody tr th {\n",
       "        vertical-align: top;\n",
       "    }\n",
       "\n",
       "    .dataframe thead th {\n",
       "        text-align: right;\n",
       "    }\n",
       "</style>\n",
       "<table border=\"1\" class=\"dataframe\">\n",
       "  <thead>\n",
       "    <tr style=\"text-align: right;\">\n",
       "      <th></th>\n",
       "      <th>sepal_l [cm]</th>\n",
       "      <th>sepal_w [cm]</th>\n",
       "      <th>petal_l [cm]</th>\n",
       "      <th>petal_w [cm]</th>\n",
       "      <th>class</th>\n",
       "    </tr>\n",
       "  </thead>\n",
       "  <tbody>\n",
       "    <tr>\n",
       "      <th>0</th>\n",
       "      <td>5.1</td>\n",
       "      <td>3.5</td>\n",
       "      <td>1.4</td>\n",
       "      <td>0.2</td>\n",
       "      <td>Iris-setosa</td>\n",
       "    </tr>\n",
       "  </tbody>\n",
       "</table>\n",
       "</div>"
      ],
      "text/plain": [
       "   sepal_l [cm]  sepal_w [cm]  petal_l [cm]  petal_w [cm]        class\n",
       "0           5.1           3.5           1.4           0.2  Iris-setosa"
      ]
     },
     "execution_count": 69,
     "metadata": {},
     "output_type": "execute_result"
    }
   ],
   "source": [
    "df_setosa.head(1)"
   ]
  },
  {
   "cell_type": "code",
   "execution_count": 70,
   "id": "898de0dd",
   "metadata": {},
   "outputs": [
    {
     "data": {
      "text/html": [
       "<div>\n",
       "<style scoped>\n",
       "    .dataframe tbody tr th:only-of-type {\n",
       "        vertical-align: middle;\n",
       "    }\n",
       "\n",
       "    .dataframe tbody tr th {\n",
       "        vertical-align: top;\n",
       "    }\n",
       "\n",
       "    .dataframe thead th {\n",
       "        text-align: right;\n",
       "    }\n",
       "</style>\n",
       "<table border=\"1\" class=\"dataframe\">\n",
       "  <thead>\n",
       "    <tr style=\"text-align: right;\">\n",
       "      <th></th>\n",
       "      <th>sepal_l [cm]</th>\n",
       "      <th>sepal_w [cm]</th>\n",
       "      <th>petal_l [cm]</th>\n",
       "      <th>petal_w [cm]</th>\n",
       "      <th>class</th>\n",
       "    </tr>\n",
       "  </thead>\n",
       "  <tbody>\n",
       "    <tr>\n",
       "      <th>50</th>\n",
       "      <td>7.0</td>\n",
       "      <td>3.2</td>\n",
       "      <td>4.7</td>\n",
       "      <td>1.4</td>\n",
       "      <td>Iris-versicolor</td>\n",
       "    </tr>\n",
       "  </tbody>\n",
       "</table>\n",
       "</div>"
      ],
      "text/plain": [
       "    sepal_l [cm]  sepal_w [cm]  petal_l [cm]  petal_w [cm]            class\n",
       "50           7.0           3.2           4.7           1.4  Iris-versicolor"
      ]
     },
     "execution_count": 70,
     "metadata": {},
     "output_type": "execute_result"
    }
   ],
   "source": [
    "df_versicolor.head(1)"
   ]
  },
  {
   "cell_type": "code",
   "execution_count": 71,
   "id": "bd836869",
   "metadata": {},
   "outputs": [
    {
     "data": {
      "text/html": [
       "<div>\n",
       "<style scoped>\n",
       "    .dataframe tbody tr th:only-of-type {\n",
       "        vertical-align: middle;\n",
       "    }\n",
       "\n",
       "    .dataframe tbody tr th {\n",
       "        vertical-align: top;\n",
       "    }\n",
       "\n",
       "    .dataframe thead th {\n",
       "        text-align: right;\n",
       "    }\n",
       "</style>\n",
       "<table border=\"1\" class=\"dataframe\">\n",
       "  <thead>\n",
       "    <tr style=\"text-align: right;\">\n",
       "      <th></th>\n",
       "      <th>sepal_l [cm]</th>\n",
       "      <th>sepal_w [cm]</th>\n",
       "      <th>petal_l [cm]</th>\n",
       "      <th>petal_w [cm]</th>\n",
       "      <th>class</th>\n",
       "    </tr>\n",
       "  </thead>\n",
       "  <tbody>\n",
       "    <tr>\n",
       "      <th>100</th>\n",
       "      <td>6.3</td>\n",
       "      <td>3.3</td>\n",
       "      <td>6.0</td>\n",
       "      <td>2.5</td>\n",
       "      <td>Iris-virginica</td>\n",
       "    </tr>\n",
       "  </tbody>\n",
       "</table>\n",
       "</div>"
      ],
      "text/plain": [
       "     sepal_l [cm]  sepal_w [cm]  petal_l [cm]  petal_w [cm]           class\n",
       "100           6.3           3.3           6.0           2.5  Iris-virginica"
      ]
     },
     "execution_count": 71,
     "metadata": {},
     "output_type": "execute_result"
    }
   ],
   "source": [
    "df_virginica.head(1)"
   ]
  },
  {
   "cell_type": "code",
   "execution_count": null,
   "id": "da6f9767",
   "metadata": {},
   "outputs": [],
   "source": []
  }
 ],
 "metadata": {
  "kernelspec": {
   "display_name": "Python 3 (ipykernel)",
   "language": "python",
   "name": "python3"
  },
  "language_info": {
   "codemirror_mode": {
    "name": "ipython",
    "version": 3
   },
   "file_extension": ".py",
   "mimetype": "text/x-python",
   "name": "python",
   "nbconvert_exporter": "python",
   "pygments_lexer": "ipython3",
   "version": "3.11.4"
  }
 },
 "nbformat": 4,
 "nbformat_minor": 5
}
